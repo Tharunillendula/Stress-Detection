{
 "cells": [
  {
   "cell_type": "markdown",
   "metadata": {},
   "source": [
    "## Import necessary packages"
   ]
  },
  {
   "cell_type": "code",
   "execution_count": 1,
   "metadata": {},
   "outputs": [],
   "source": [
    "import pandas as pd\n",
    "import sklearn as sk\n",
    "import numpy as np\n",
    "import matplotlib.pyplot as plt\n",
    "import seaborn as sns\n",
    "from sklearn.decomposition import PCA\n",
    "import sklearn.feature_selection"
   ]
  },
  {
   "cell_type": "code",
   "execution_count": 10,
   "metadata": {},
   "outputs": [],
   "source": [
    "sns.set_theme(style= \"dark\")\n",
    "sns.set(rc={'figure.figsize':(11.7,8.27)})"
   ]
  },
  {
   "cell_type": "markdown",
   "metadata": {},
   "source": [
    "In this notebook new approachesare taken different form github but while modeeling even preprocessing like github is considered"
   ]
  },
  {
   "cell_type": "code",
   "execution_count": 4,
   "metadata": {},
   "outputs": [],
   "source": [
    "df=pd.read_excel(\"C:/Users/jatin/OneDrive/Desktop/jstin/doi_10.5061_dryad.5hqbzkh6f__v6/SurveyResults.xlsx\")"
   ]
  },
  {
   "cell_type": "code",
   "execution_count": 12,
   "metadata": {},
   "outputs": [
    {
     "name": "stdout",
     "output_type": "stream",
     "text": [
      "[('6D', 3), ('7E', 6), ('EG', 10), ('5C', 14), ('8B', 16), ('CE', 19), ('DF', 20), ('6B', 22), ('BG', 24), ('F5', 25), (15, 29), (83, 29), ('E4', 39), (94, 42), ('7A', 45)]\n"
     ]
    }
   ],
   "source": [
    "a=np.array(df[\"ID\"])\n",
    "d={}\n",
    "for i in range(len(a)):\n",
    "    if(a[i] not in d):\n",
    "        d[a[i]]=0\n",
    "    else:\n",
    "        d[a[i]]+=1\n",
    "print(sorted(d.items(),key=lambda x:x[1]))\n"
   ]
  },
  {
   "cell_type": "markdown",
   "metadata": {},
   "source": [
    "## Pre process, clean,summarize data"
   ]
  },
  {
   "cell_type": "code",
   "execution_count": 3,
   "metadata": {},
   "outputs": [],
   "source": [
    "df=pd.read_csv(\"C:/Users/jatin/OneDrive/Desktop/merged_data_labeled.csv\")"
   ]
  },
  {
   "cell_type": "code",
   "execution_count": 4,
   "metadata": {},
   "outputs": [
    {
     "data": {
      "text/html": [
       "<div>\n",
       "<style scoped>\n",
       "    .dataframe tbody tr th:only-of-type {\n",
       "        vertical-align: middle;\n",
       "    }\n",
       "\n",
       "    .dataframe tbody tr th {\n",
       "        vertical-align: top;\n",
       "    }\n",
       "\n",
       "    .dataframe thead th {\n",
       "        text-align: right;\n",
       "    }\n",
       "</style>\n",
       "<table border=\"1\" class=\"dataframe\">\n",
       "  <thead>\n",
       "    <tr style=\"text-align: right;\">\n",
       "      <th></th>\n",
       "      <th>X</th>\n",
       "      <th>Y</th>\n",
       "      <th>Z</th>\n",
       "      <th>EDA</th>\n",
       "      <th>HR</th>\n",
       "      <th>TEMP</th>\n",
       "      <th>id</th>\n",
       "      <th>datetime</th>\n",
       "      <th>label</th>\n",
       "    </tr>\n",
       "  </thead>\n",
       "  <tbody>\n",
       "    <tr>\n",
       "      <th>0</th>\n",
       "      <td>-22.0</td>\n",
       "      <td>-43.0</td>\n",
       "      <td>127.0</td>\n",
       "      <td>21.941885</td>\n",
       "      <td>82.67</td>\n",
       "      <td>36.49</td>\n",
       "      <td>5C</td>\n",
       "      <td>2020-04-14 22:31:00.000000000</td>\n",
       "      <td>1.0</td>\n",
       "    </tr>\n",
       "    <tr>\n",
       "      <th>1</th>\n",
       "      <td>-22.0</td>\n",
       "      <td>-43.0</td>\n",
       "      <td>127.0</td>\n",
       "      <td>21.941885</td>\n",
       "      <td>82.67</td>\n",
       "      <td>36.49</td>\n",
       "      <td>5C</td>\n",
       "      <td>2020-04-14 22:31:00.031249920</td>\n",
       "      <td>1.0</td>\n",
       "    </tr>\n",
       "    <tr>\n",
       "      <th>2</th>\n",
       "      <td>-22.0</td>\n",
       "      <td>-43.0</td>\n",
       "      <td>127.0</td>\n",
       "      <td>21.941885</td>\n",
       "      <td>82.67</td>\n",
       "      <td>36.49</td>\n",
       "      <td>5C</td>\n",
       "      <td>2020-04-14 22:31:00.062500096</td>\n",
       "      <td>1.0</td>\n",
       "    </tr>\n",
       "    <tr>\n",
       "      <th>3</th>\n",
       "      <td>-22.0</td>\n",
       "      <td>-43.0</td>\n",
       "      <td>127.0</td>\n",
       "      <td>21.941885</td>\n",
       "      <td>82.67</td>\n",
       "      <td>36.49</td>\n",
       "      <td>5C</td>\n",
       "      <td>2020-04-14 22:31:00.093750016</td>\n",
       "      <td>1.0</td>\n",
       "    </tr>\n",
       "    <tr>\n",
       "      <th>4</th>\n",
       "      <td>-22.0</td>\n",
       "      <td>-43.0</td>\n",
       "      <td>127.0</td>\n",
       "      <td>21.941885</td>\n",
       "      <td>82.67</td>\n",
       "      <td>36.49</td>\n",
       "      <td>5C</td>\n",
       "      <td>2020-04-14 22:31:00.124999936</td>\n",
       "      <td>1.0</td>\n",
       "    </tr>\n",
       "  </tbody>\n",
       "</table>\n",
       "</div>"
      ],
      "text/plain": [
       "      X     Y      Z        EDA     HR   TEMP  id  \\\n",
       "0 -22.0 -43.0  127.0  21.941885  82.67  36.49  5C   \n",
       "1 -22.0 -43.0  127.0  21.941885  82.67  36.49  5C   \n",
       "2 -22.0 -43.0  127.0  21.941885  82.67  36.49  5C   \n",
       "3 -22.0 -43.0  127.0  21.941885  82.67  36.49  5C   \n",
       "4 -22.0 -43.0  127.0  21.941885  82.67  36.49  5C   \n",
       "\n",
       "                        datetime  label  \n",
       "0  2020-04-14 22:31:00.000000000    1.0  \n",
       "1  2020-04-14 22:31:00.031249920    1.0  \n",
       "2  2020-04-14 22:31:00.062500096    1.0  \n",
       "3  2020-04-14 22:31:00.093750016    1.0  \n",
       "4  2020-04-14 22:31:00.124999936    1.0  "
      ]
     },
     "execution_count": 4,
     "metadata": {},
     "output_type": "execute_result"
    }
   ],
   "source": [
    "df.head()"
   ]
  },
  {
   "cell_type": "code",
   "execution_count": 5,
   "metadata": {},
   "outputs": [
    {
     "data": {
      "text/html": [
       "<div>\n",
       "<style scoped>\n",
       "    .dataframe tbody tr th:only-of-type {\n",
       "        vertical-align: middle;\n",
       "    }\n",
       "\n",
       "    .dataframe tbody tr th {\n",
       "        vertical-align: top;\n",
       "    }\n",
       "\n",
       "    .dataframe thead th {\n",
       "        text-align: right;\n",
       "    }\n",
       "</style>\n",
       "<table border=\"1\" class=\"dataframe\">\n",
       "  <thead>\n",
       "    <tr style=\"text-align: right;\">\n",
       "      <th></th>\n",
       "      <th>X</th>\n",
       "      <th>Y</th>\n",
       "      <th>Z</th>\n",
       "      <th>EDA</th>\n",
       "      <th>HR</th>\n",
       "      <th>TEMP</th>\n",
       "      <th>label</th>\n",
       "    </tr>\n",
       "  </thead>\n",
       "  <tbody>\n",
       "    <tr>\n",
       "      <th>count</th>\n",
       "      <td>3.913631e+06</td>\n",
       "      <td>3.913631e+06</td>\n",
       "      <td>3.913631e+06</td>\n",
       "      <td>3.913631e+06</td>\n",
       "      <td>3.913631e+06</td>\n",
       "      <td>3.913631e+06</td>\n",
       "      <td>3.913631e+06</td>\n",
       "    </tr>\n",
       "    <tr>\n",
       "      <th>mean</th>\n",
       "      <td>-3.428724e+01</td>\n",
       "      <td>-2.632439e+00</td>\n",
       "      <td>2.313430e+01</td>\n",
       "      <td>2.860837e+00</td>\n",
       "      <td>8.705850e+01</td>\n",
       "      <td>3.145194e+01</td>\n",
       "      <td>1.271781e+00</td>\n",
       "    </tr>\n",
       "    <tr>\n",
       "      <th>std</th>\n",
       "      <td>2.617428e+01</td>\n",
       "      <td>3.339914e+01</td>\n",
       "      <td>3.162951e+01</td>\n",
       "      <td>5.045804e+00</td>\n",
       "      <td>1.336124e+01</td>\n",
       "      <td>2.433321e+00</td>\n",
       "      <td>8.667815e-01</td>\n",
       "    </tr>\n",
       "    <tr>\n",
       "      <th>min</th>\n",
       "      <td>-1.280000e+02</td>\n",
       "      <td>-1.280000e+02</td>\n",
       "      <td>-1.280000e+02</td>\n",
       "      <td>0.000000e+00</td>\n",
       "      <td>5.100000e+01</td>\n",
       "      <td>2.409000e+01</td>\n",
       "      <td>0.000000e+00</td>\n",
       "    </tr>\n",
       "    <tr>\n",
       "      <th>25%</th>\n",
       "      <td>-5.500000e+01</td>\n",
       "      <td>-2.100000e+01</td>\n",
       "      <td>2.000000e+00</td>\n",
       "      <td>3.292030e-01</td>\n",
       "      <td>7.755000e+01</td>\n",
       "      <td>2.929000e+01</td>\n",
       "      <td>0.000000e+00</td>\n",
       "    </tr>\n",
       "    <tr>\n",
       "      <th>50%</th>\n",
       "      <td>-3.800000e+01</td>\n",
       "      <td>2.000000e+00</td>\n",
       "      <td>2.400000e+01</td>\n",
       "      <td>8.188110e-01</td>\n",
       "      <td>8.523000e+01</td>\n",
       "      <td>3.115000e+01</td>\n",
       "      <td>2.000000e+00</td>\n",
       "    </tr>\n",
       "    <tr>\n",
       "      <th>75%</th>\n",
       "      <td>-2.000000e+01</td>\n",
       "      <td>1.500000e+01</td>\n",
       "      <td>4.700000e+01</td>\n",
       "      <td>2.965106e+00</td>\n",
       "      <td>9.422000e+01</td>\n",
       "      <td>3.341000e+01</td>\n",
       "      <td>2.000000e+00</td>\n",
       "    </tr>\n",
       "    <tr>\n",
       "      <th>max</th>\n",
       "      <td>1.270000e+02</td>\n",
       "      <td>1.270000e+02</td>\n",
       "      <td>1.270000e+02</td>\n",
       "      <td>4.458383e+01</td>\n",
       "      <td>1.635000e+02</td>\n",
       "      <td>3.659000e+01</td>\n",
       "      <td>2.000000e+00</td>\n",
       "    </tr>\n",
       "  </tbody>\n",
       "</table>\n",
       "</div>"
      ],
      "text/plain": [
       "                  X             Y             Z           EDA            HR  \\\n",
       "count  3.913631e+06  3.913631e+06  3.913631e+06  3.913631e+06  3.913631e+06   \n",
       "mean  -3.428724e+01 -2.632439e+00  2.313430e+01  2.860837e+00  8.705850e+01   \n",
       "std    2.617428e+01  3.339914e+01  3.162951e+01  5.045804e+00  1.336124e+01   \n",
       "min   -1.280000e+02 -1.280000e+02 -1.280000e+02  0.000000e+00  5.100000e+01   \n",
       "25%   -5.500000e+01 -2.100000e+01  2.000000e+00  3.292030e-01  7.755000e+01   \n",
       "50%   -3.800000e+01  2.000000e+00  2.400000e+01  8.188110e-01  8.523000e+01   \n",
       "75%   -2.000000e+01  1.500000e+01  4.700000e+01  2.965106e+00  9.422000e+01   \n",
       "max    1.270000e+02  1.270000e+02  1.270000e+02  4.458383e+01  1.635000e+02   \n",
       "\n",
       "               TEMP         label  \n",
       "count  3.913631e+06  3.913631e+06  \n",
       "mean   3.145194e+01  1.271781e+00  \n",
       "std    2.433321e+00  8.667815e-01  \n",
       "min    2.409000e+01  0.000000e+00  \n",
       "25%    2.929000e+01  0.000000e+00  \n",
       "50%    3.115000e+01  2.000000e+00  \n",
       "75%    3.341000e+01  2.000000e+00  \n",
       "max    3.659000e+01  2.000000e+00  "
      ]
     },
     "execution_count": 5,
     "metadata": {},
     "output_type": "execute_result"
    }
   ],
   "source": [
    "df.describe()"
   ]
  },
  {
   "cell_type": "markdown",
   "metadata": {},
   "source": [
    "##### The data mainly has lowest std on heart rate"
   ]
  },
  {
   "cell_type": "code",
   "execution_count": 6,
   "metadata": {},
   "outputs": [
    {
     "data": {
      "text/plain": [
       "X               256\n",
       "Y               256\n",
       "Z               256\n",
       "EDA           84114\n",
       "HR             5028\n",
       "TEMP            599\n",
       "id                5\n",
       "datetime    3700503\n",
       "label             3\n",
       "dtype: int64"
      ]
     },
     "execution_count": 6,
     "metadata": {},
     "output_type": "execute_result"
    }
   ],
   "source": [
    "df.nunique()"
   ]
  },
  {
   "cell_type": "markdown",
   "metadata": {},
   "source": [
    "#### Temp has the lowest uunique values apart from orientation"
   ]
  },
  {
   "cell_type": "code",
   "execution_count": 7,
   "metadata": {},
   "outputs": [
    {
     "data": {
      "text/plain": [
       "X           0\n",
       "Y           0\n",
       "Z           0\n",
       "EDA         0\n",
       "HR          0\n",
       "TEMP        0\n",
       "id          0\n",
       "datetime    0\n",
       "label       0\n",
       "dtype: int64"
      ]
     },
     "execution_count": 7,
     "metadata": {},
     "output_type": "execute_result"
    }
   ],
   "source": [
    "df.isna().sum()"
   ]
  },
  {
   "cell_type": "markdown",
   "metadata": {},
   "source": [
    "#### No NAN values present"
   ]
  },
  {
   "cell_type": "markdown",
   "metadata": {},
   "source": [
    "## Exploratory data Analysis"
   ]
  },
  {
   "cell_type": "markdown",
   "metadata": {},
   "source": [
    "### Heart rate follows a bell curve"
   ]
  },
  {
   "cell_type": "code",
   "execution_count": 11,
   "metadata": {},
   "outputs": [
    {
     "data": {
      "text/plain": [
       "[[]]"
      ]
     },
     "execution_count": 11,
     "metadata": {},
     "output_type": "execute_result"
    },
    {
     "data": {
      "image/png": "[encoded data removed]",
      "text/plain": [
       "<Figure size 842.4x595.44 with 1 Axes>"
      ]
     },
     "metadata": {},
     "output_type": "display_data"
    }
   ],
   "source": [
    "g1=sns.histplot(data=df,x=\"HR\",hue=\"label\",palette=\"dark\")\n",
    "g1.set(xticklabels=[])\n",
    "g1.set(yticklabels=[])"
   ]
  },
  {
   "cell_type": "code",
   "execution_count": 12,
   "metadata": {},
   "outputs": [
    {
     "data": {
      "text/plain": [
       "[[]]"
      ]
     },
     "execution_count": 12,
     "metadata": {},
     "output_type": "execute_result"
    },
    {
     "data": {
      "image/png": "[encoded data removed]",
      "text/plain": [
       "<Figure size 842.4x595.44 with 1 Axes>"
      ]
     },
     "metadata": {},
     "output_type": "display_data"
    }
   ],
   "source": [
    "g1=sns.histplot(data=df,x=\"EDA\",hue=\"label\",palette=\"dark\")\n",
    "g1.set(xticklabels=[])\n",
    "g1.set(yticklabels=[])"
   ]
  },
  {
   "cell_type": "markdown",
   "metadata": {},
   "source": [
    "### EDA values are centralized on a single value"
   ]
  },
  {
   "cell_type": "code",
   "execution_count": 13,
   "metadata": {},
   "outputs": [
    {
     "data": {
      "text/plain": [
       "[[]]"
      ]
     },
     "execution_count": 13,
     "metadata": {},
     "output_type": "execute_result"
    },
    {
     "data": {
      "image/png": "[encoded data removed]",
      "text/plain": [
       "<Figure size 842.4x595.44 with 1 Axes>"
      ]
     },
     "metadata": {},
     "output_type": "display_data"
    }
   ],
   "source": [
    "g1=sns.histplot(data=df,x=\"TEMP\",hue=\"label\",palette=\"dark\")\n",
    "g1.set(xticklabels=[])\n",
    "g1.set(yticklabels=[])"
   ]
  },
  {
   "cell_type": "markdown",
   "metadata": {},
   "source": [
    "### Temparature is distributed on a smaller range"
   ]
  },
  {
   "cell_type": "code",
   "execution_count": 14,
   "metadata": {},
   "outputs": [
    {
     "data": {
      "text/plain": [
       "[[]]"
      ]
     },
     "execution_count": 14,
     "metadata": {},
     "output_type": "execute_result"
    },
    {
     "data": {
      "image/png": "[encoded data removed]",
      "text/plain": [
       "<Figure size 842.4x595.44 with 1 Axes>"
      ]
     },
     "metadata": {},
     "output_type": "display_data"
    }
   ],
   "source": [
    "g1=sns.histplot(data=df,x=\"X\",hue=\"label\",palette=\"dark\")\n",
    "g1.set(xticklabels=[])\n",
    "g1.set(yticklabels=[])"
   ]
  },
  {
   "cell_type": "code",
   "execution_count": 15,
   "metadata": {},
   "outputs": [
    {
     "data": {
      "text/plain": [
       "[[]]"
      ]
     },
     "execution_count": 15,
     "metadata": {},
     "output_type": "execute_result"
    },
    {
     "data": {
      "image/png": "[encoded data removed]",
      "text/plain": [
       "<Figure size 842.4x595.44 with 1 Axes>"
      ]
     },
     "metadata": {},
     "output_type": "display_data"
    }
   ],
   "source": [
    "g1=sns.histplot(data=df,x=\"Y\",hue=\"label\",palette=\"dark\")\n",
    "g1.set(xticklabels=[])\n",
    "g1.set(yticklabels=[])"
   ]
  },
  {
   "cell_type": "code",
   "execution_count": 16,
   "metadata": {},
   "outputs": [
    {
     "data": {
      "text/plain": [
       "[[]]"
      ]
     },
     "execution_count": 16,
     "metadata": {},
     "output_type": "execute_result"
    },
    {
     "data": {
      "image/png": "[encoded data removed]",
      "text/plain": [
       "<Figure size 842.4x595.44 with 1 Axes>"
      ]
     },
     "metadata": {},
     "output_type": "display_data"
    }
   ],
   "source": [
    "g1=sns.histplot(data=df,x=\"Z\",hue=\"label\",palette=\"dark\")\n",
    "g1.set(xticklabels=[])\n",
    "g1.set(yticklabels=[])"
   ]
  },
  {
   "cell_type": "markdown",
   "metadata": {},
   "source": [
    "Looks like much information is not being transmitted from x,y,z"
   ]
  },
  {
   "cell_type": "markdown",
   "metadata": {},
   "source": [
    "## While performing modelling we can use many feature selectionmethods like Recursive feature elimination to choose effectively all the features but lets perform PCA to bettr understand the features"
   ]
  },
  {
   "cell_type": "code",
   "execution_count": 94,
   "metadata": {},
   "outputs": [],
   "source": [
    "df1=df"
   ]
  },
  {
   "cell_type": "code",
   "execution_count": 96,
   "metadata": {},
   "outputs": [],
   "source": [
    "df1=df1.drop([\"id\",\"datetime\",\"label\"],axis=1)"
   ]
  },
  {
   "cell_type": "code",
   "execution_count": 97,
   "metadata": {},
   "outputs": [],
   "source": [
    "n=np.array(df1)"
   ]
  },
  {
   "cell_type": "code",
   "execution_count": 99,
   "metadata": {},
   "outputs": [],
   "source": [
    "pca=sk.decomposition.PCA()"
   ]
  },
  {
   "cell_type": "code",
   "execution_count": 100,
   "metadata": {},
   "outputs": [
    {
     "data": {
      "text/plain": [
       "PCA()"
      ]
     },
     "execution_count": 100,
     "metadata": {},
     "output_type": "execute_result"
    }
   ],
   "source": [
    "pca.fit(n)"
   ]
  },
  {
   "cell_type": "code",
   "execution_count": 101,
   "metadata": {},
   "outputs": [
    {
     "name": "stdout",
     "output_type": "stream",
     "text": [
      "[0.39379707 0.35180726 0.18567169 0.05859564 0.00824138 0.00188695]\n"
     ]
    }
   ],
   "source": [
    "print(pca.explained_variance_ratio_)"
   ]
  },
  {
   "cell_type": "code",
   "execution_count": 102,
   "metadata": {},
   "outputs": [
    {
     "name": "stdout",
     "output_type": "stream",
     "text": [
      "[68120.23461932 64386.12630931 46774.8863376  26276.80469261\n",
      "  9854.62241529  4715.41952812]\n"
     ]
    }
   ],
   "source": [
    "print(pca.singular_values_)"
   ]
  },
  {
   "cell_type": "markdown",
   "metadata": {},
   "source": [
    "# The highest singular values are for temp,hr"
   ]
  },
  {
   "cell_type": "markdown",
   "metadata": {},
   "source": [
    "# lets look at pearson coefficient"
   ]
  },
  {
   "cell_type": "code",
   "execution_count": 107,
   "metadata": {},
   "outputs": [],
   "source": [
    "x=np.array(df.drop([\"id\",\"datetime\",\"label\"],axis=1))"
   ]
  },
  {
   "cell_type": "code",
   "execution_count": 108,
   "metadata": {},
   "outputs": [],
   "source": [
    "y=np.array(df[\"label\"])"
   ]
  },
  {
   "cell_type": "code",
   "execution_count": 111,
   "metadata": {},
   "outputs": [
    {
     "data": {
      "text/plain": [
       "array([-0.20734308, -0.10726012, -0.18653889,  0.26246622,  0.09784287,\n",
       "        0.3640187 ])"
      ]
     },
     "execution_count": 111,
     "metadata": {},
     "output_type": "execute_result"
    }
   ],
   "source": [
    "sk.feature_selection.r_regression(x,y)"
   ]
  },
  {
   "cell_type": "markdown",
   "metadata": {},
   "source": [
    "# this shows highest correlation with hr,eda,x"
   ]
  },
  {
   "cell_type": "markdown",
   "metadata": {},
   "source": [
    "# Considering above results if required more features can eb generated as shown in the source github and similar analysis can be performed"
   ]
  },
  {
   "cell_type": "code",
   "execution_count": null,
   "metadata": {},
   "outputs": [],
   "source": []
  }
 ],
 "metadata": {
  "kernelspec": {
   "display_name": "Python 3",
   "language": "python",
   "name": "python3"
  },
  "language_info": {
   "codemirror_mode": {
    "name": "ipython",
    "version": 3
   },
   "file_extension": ".py",
   "mimetype": "text/x-python",
   "name": "python",
   "nbconvert_exporter": "python",
   "pygments_lexer": "ipython3",
   "version": "3.8.3"
  }
 },
 "nbformat": 4,
 "nbformat_minor": 5
}
